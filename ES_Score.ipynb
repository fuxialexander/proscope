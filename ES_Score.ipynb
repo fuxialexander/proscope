{
  "nbformat": 4,
  "nbformat_minor": 0,
  "metadata": {
    "colab": {
      "provenance": [],
      "authorship_tag": "ABX9TyMUDhKfTxq8H5Z2UvT3GYTo",
      "include_colab_link": true
    },
    "kernelspec": {
      "name": "python3",
      "display_name": "Python 3"
    },
    "language_info": {
      "name": "python"
    }
  },
  "cells": [
    {
      "cell_type": "markdown",
      "metadata": {
        "id": "view-in-github",
        "colab_type": "text"
      },
      "source": [
        "<a href=\"https://colab.research.google.com/github/fuxialexander/proscope/blob/master/ES_Score.ipynb\" target=\"_parent\"><img src=\"https://colab.research.google.com/assets/colab-badge.svg\" alt=\"Open In Colab\"/></a>"
      ]
    },
    {
      "cell_type": "code",
      "execution_count": 1,
      "metadata": {
        "colab": {
          "base_uri": "https://localhost:8080/"
        },
        "id": "F3Jss859Mkoj",
        "outputId": "a6099880-2acc-4943-ad10-4b43d02034f8"
      },
      "outputs": [
        {
          "output_type": "stream",
          "name": "stdout",
          "text": [
            "fatal: destination path 'proscope' already exists and is not an empty directory.\n"
          ]
        }
      ],
      "source": [
        "!git clone https://github.com/fuxialexander/proscope.git"
      ]
    },
    {
      "cell_type": "code",
      "source": [
        "!cd proscope && git pull --rebase && pip install -r requirements.txt && pip install ."
      ],
      "metadata": {
        "colab": {
          "base_uri": "https://localhost:8080/"
        },
        "id": "SQoS6TV5M1Br",
        "outputId": "b4c86955-09b3-45a0-ffb6-cd4819f84327"
      },
      "execution_count": 2,
      "outputs": [
        {
          "output_type": "stream",
          "name": "stdout",
          "text": [
            "Already up to date.\n",
            "Requirement already satisfied: matplotlib in /usr/local/lib/python3.10/dist-packages (from -r requirements.txt (line 1)) (3.7.1)\n",
            "Requirement already satisfied: numpy in /usr/local/lib/python3.10/dist-packages (from -r requirements.txt (line 2)) (1.23.5)\n",
            "Requirement already satisfied: pandas in /usr/local/lib/python3.10/dist-packages (from -r requirements.txt (line 3)) (1.5.3)\n",
            "Requirement already satisfied: seaborn in /usr/local/lib/python3.10/dist-packages (from -r requirements.txt (line 4)) (0.12.2)\n",
            "Requirement already satisfied: biopython in /usr/local/lib/python3.10/dist-packages (from -r requirements.txt (line 5)) (1.81)\n",
            "Requirement already satisfied: tqdm in /usr/local/lib/python3.10/dist-packages (from -r requirements.txt (line 6)) (4.66.1)\n",
            "Requirement already satisfied: xmlschema in /usr/local/lib/python3.10/dist-packages (from -r requirements.txt (line 7)) (2.5.0)\n",
            "Requirement already satisfied: scipy in /usr/local/lib/python3.10/dist-packages (from -r requirements.txt (line 8)) (1.11.2)\n",
            "Requirement already satisfied: nglview in /usr/local/lib/python3.10/dist-packages (from -r requirements.txt (line 9)) (3.0.8)\n",
            "Requirement already satisfied: py3Dmol in /usr/local/lib/python3.10/dist-packages (from -r requirements.txt (line 10)) (2.0.4)\n",
            "Requirement already satisfied: contourpy>=1.0.1 in /usr/local/lib/python3.10/dist-packages (from matplotlib->-r requirements.txt (line 1)) (1.1.0)\n",
            "Requirement already satisfied: cycler>=0.10 in /usr/local/lib/python3.10/dist-packages (from matplotlib->-r requirements.txt (line 1)) (0.11.0)\n",
            "Requirement already satisfied: fonttools>=4.22.0 in /usr/local/lib/python3.10/dist-packages (from matplotlib->-r requirements.txt (line 1)) (4.42.1)\n",
            "Requirement already satisfied: kiwisolver>=1.0.1 in /usr/local/lib/python3.10/dist-packages (from matplotlib->-r requirements.txt (line 1)) (1.4.5)\n",
            "Requirement already satisfied: packaging>=20.0 in /usr/local/lib/python3.10/dist-packages (from matplotlib->-r requirements.txt (line 1)) (23.1)\n",
            "Requirement already satisfied: pillow>=6.2.0 in /usr/local/lib/python3.10/dist-packages (from matplotlib->-r requirements.txt (line 1)) (9.4.0)\n",
            "Requirement already satisfied: pyparsing>=2.3.1 in /usr/local/lib/python3.10/dist-packages (from matplotlib->-r requirements.txt (line 1)) (3.1.1)\n",
            "Requirement already satisfied: python-dateutil>=2.7 in /usr/local/lib/python3.10/dist-packages (from matplotlib->-r requirements.txt (line 1)) (2.8.2)\n",
            "Requirement already satisfied: pytz>=2020.1 in /usr/local/lib/python3.10/dist-packages (from pandas->-r requirements.txt (line 3)) (2023.3.post1)\n",
            "Requirement already satisfied: elementpath<5.0.0,>=4.1.5 in /usr/local/lib/python3.10/dist-packages (from xmlschema->-r requirements.txt (line 7)) (4.1.5)\n",
            "Requirement already satisfied: ipywidgets>=7 in /usr/local/lib/python3.10/dist-packages (from nglview->-r requirements.txt (line 9)) (7.7.1)\n",
            "Requirement already satisfied: jupyterlab-widgets in /usr/local/lib/python3.10/dist-packages (from nglview->-r requirements.txt (line 9)) (3.0.8)\n",
            "Requirement already satisfied: ipykernel>=4.5.1 in /usr/local/lib/python3.10/dist-packages (from ipywidgets>=7->nglview->-r requirements.txt (line 9)) (5.5.6)\n",
            "Requirement already satisfied: ipython-genutils~=0.2.0 in /usr/local/lib/python3.10/dist-packages (from ipywidgets>=7->nglview->-r requirements.txt (line 9)) (0.2.0)\n",
            "Requirement already satisfied: traitlets>=4.3.1 in /usr/local/lib/python3.10/dist-packages (from ipywidgets>=7->nglview->-r requirements.txt (line 9)) (5.7.1)\n",
            "Requirement already satisfied: widgetsnbextension~=3.6.0 in /usr/local/lib/python3.10/dist-packages (from ipywidgets>=7->nglview->-r requirements.txt (line 9)) (3.6.5)\n",
            "Requirement already satisfied: ipython>=4.0.0 in /usr/local/lib/python3.10/dist-packages (from ipywidgets>=7->nglview->-r requirements.txt (line 9)) (7.34.0)\n",
            "Requirement already satisfied: six>=1.5 in /usr/local/lib/python3.10/dist-packages (from python-dateutil>=2.7->matplotlib->-r requirements.txt (line 1)) (1.16.0)\n",
            "Requirement already satisfied: jupyter-client in /usr/local/lib/python3.10/dist-packages (from ipykernel>=4.5.1->ipywidgets>=7->nglview->-r requirements.txt (line 9)) (6.1.12)\n",
            "Requirement already satisfied: tornado>=4.2 in /usr/local/lib/python3.10/dist-packages (from ipykernel>=4.5.1->ipywidgets>=7->nglview->-r requirements.txt (line 9)) (6.3.2)\n",
            "Requirement already satisfied: setuptools>=18.5 in /usr/local/lib/python3.10/dist-packages (from ipython>=4.0.0->ipywidgets>=7->nglview->-r requirements.txt (line 9)) (67.7.2)\n",
            "Requirement already satisfied: jedi>=0.16 in /usr/local/lib/python3.10/dist-packages (from ipython>=4.0.0->ipywidgets>=7->nglview->-r requirements.txt (line 9)) (0.19.0)\n",
            "Requirement already satisfied: decorator in /usr/local/lib/python3.10/dist-packages (from ipython>=4.0.0->ipywidgets>=7->nglview->-r requirements.txt (line 9)) (4.4.2)\n",
            "Requirement already satisfied: pickleshare in /usr/local/lib/python3.10/dist-packages (from ipython>=4.0.0->ipywidgets>=7->nglview->-r requirements.txt (line 9)) (0.7.5)\n",
            "Requirement already satisfied: prompt-toolkit!=3.0.0,!=3.0.1,<3.1.0,>=2.0.0 in /usr/local/lib/python3.10/dist-packages (from ipython>=4.0.0->ipywidgets>=7->nglview->-r requirements.txt (line 9)) (3.0.39)\n",
            "Requirement already satisfied: pygments in /usr/local/lib/python3.10/dist-packages (from ipython>=4.0.0->ipywidgets>=7->nglview->-r requirements.txt (line 9)) (2.16.1)\n",
            "Requirement already satisfied: backcall in /usr/local/lib/python3.10/dist-packages (from ipython>=4.0.0->ipywidgets>=7->nglview->-r requirements.txt (line 9)) (0.2.0)\n",
            "Requirement already satisfied: matplotlib-inline in /usr/local/lib/python3.10/dist-packages (from ipython>=4.0.0->ipywidgets>=7->nglview->-r requirements.txt (line 9)) (0.1.6)\n",
            "Requirement already satisfied: pexpect>4.3 in /usr/local/lib/python3.10/dist-packages (from ipython>=4.0.0->ipywidgets>=7->nglview->-r requirements.txt (line 9)) (4.8.0)\n",
            "Requirement already satisfied: notebook>=4.4.1 in /usr/local/lib/python3.10/dist-packages (from widgetsnbextension~=3.6.0->ipywidgets>=7->nglview->-r requirements.txt (line 9)) (6.5.5)\n",
            "Requirement already satisfied: parso<0.9.0,>=0.8.3 in /usr/local/lib/python3.10/dist-packages (from jedi>=0.16->ipython>=4.0.0->ipywidgets>=7->nglview->-r requirements.txt (line 9)) (0.8.3)\n",
            "Requirement already satisfied: jinja2 in /usr/local/lib/python3.10/dist-packages (from notebook>=4.4.1->widgetsnbextension~=3.6.0->ipywidgets>=7->nglview->-r requirements.txt (line 9)) (3.1.2)\n",
            "Requirement already satisfied: pyzmq<25,>=17 in /usr/local/lib/python3.10/dist-packages (from notebook>=4.4.1->widgetsnbextension~=3.6.0->ipywidgets>=7->nglview->-r requirements.txt (line 9)) (23.2.1)\n",
            "Requirement already satisfied: argon2-cffi in /usr/local/lib/python3.10/dist-packages (from notebook>=4.4.1->widgetsnbextension~=3.6.0->ipywidgets>=7->nglview->-r requirements.txt (line 9)) (23.1.0)\n",
            "Requirement already satisfied: jupyter-core>=4.6.1 in /usr/local/lib/python3.10/dist-packages (from notebook>=4.4.1->widgetsnbextension~=3.6.0->ipywidgets>=7->nglview->-r requirements.txt (line 9)) (5.3.1)\n",
            "Requirement already satisfied: nbformat in /usr/local/lib/python3.10/dist-packages (from notebook>=4.4.1->widgetsnbextension~=3.6.0->ipywidgets>=7->nglview->-r requirements.txt (line 9)) (5.9.2)\n",
            "Requirement already satisfied: nbconvert>=5 in /usr/local/lib/python3.10/dist-packages (from notebook>=4.4.1->widgetsnbextension~=3.6.0->ipywidgets>=7->nglview->-r requirements.txt (line 9)) (6.5.4)\n",
            "Requirement already satisfied: nest-asyncio>=1.5 in /usr/local/lib/python3.10/dist-packages (from notebook>=4.4.1->widgetsnbextension~=3.6.0->ipywidgets>=7->nglview->-r requirements.txt (line 9)) (1.5.7)\n",
            "Requirement already satisfied: Send2Trash>=1.8.0 in /usr/local/lib/python3.10/dist-packages (from notebook>=4.4.1->widgetsnbextension~=3.6.0->ipywidgets>=7->nglview->-r requirements.txt (line 9)) (1.8.2)\n",
            "Requirement already satisfied: terminado>=0.8.3 in /usr/local/lib/python3.10/dist-packages (from notebook>=4.4.1->widgetsnbextension~=3.6.0->ipywidgets>=7->nglview->-r requirements.txt (line 9)) (0.17.1)\n",
            "Requirement already satisfied: prometheus-client in /usr/local/lib/python3.10/dist-packages (from notebook>=4.4.1->widgetsnbextension~=3.6.0->ipywidgets>=7->nglview->-r requirements.txt (line 9)) (0.17.1)\n",
            "Requirement already satisfied: nbclassic>=0.4.7 in /usr/local/lib/python3.10/dist-packages (from notebook>=4.4.1->widgetsnbextension~=3.6.0->ipywidgets>=7->nglview->-r requirements.txt (line 9)) (1.0.0)\n",
            "Requirement already satisfied: ptyprocess>=0.5 in /usr/local/lib/python3.10/dist-packages (from pexpect>4.3->ipython>=4.0.0->ipywidgets>=7->nglview->-r requirements.txt (line 9)) (0.7.0)\n",
            "Requirement already satisfied: wcwidth in /usr/local/lib/python3.10/dist-packages (from prompt-toolkit!=3.0.0,!=3.0.1,<3.1.0,>=2.0.0->ipython>=4.0.0->ipywidgets>=7->nglview->-r requirements.txt (line 9)) (0.2.6)\n",
            "Requirement already satisfied: platformdirs>=2.5 in /usr/local/lib/python3.10/dist-packages (from jupyter-core>=4.6.1->notebook>=4.4.1->widgetsnbextension~=3.6.0->ipywidgets>=7->nglview->-r requirements.txt (line 9)) (3.10.0)\n",
            "Requirement already satisfied: jupyter-server>=1.8 in /usr/local/lib/python3.10/dist-packages (from nbclassic>=0.4.7->notebook>=4.4.1->widgetsnbextension~=3.6.0->ipywidgets>=7->nglview->-r requirements.txt (line 9)) (1.24.0)\n",
            "Requirement already satisfied: notebook-shim>=0.2.3 in /usr/local/lib/python3.10/dist-packages (from nbclassic>=0.4.7->notebook>=4.4.1->widgetsnbextension~=3.6.0->ipywidgets>=7->nglview->-r requirements.txt (line 9)) (0.2.3)\n",
            "Requirement already satisfied: lxml in /usr/local/lib/python3.10/dist-packages (from nbconvert>=5->notebook>=4.4.1->widgetsnbextension~=3.6.0->ipywidgets>=7->nglview->-r requirements.txt (line 9)) (4.9.3)\n",
            "Requirement already satisfied: beautifulsoup4 in /usr/local/lib/python3.10/dist-packages (from nbconvert>=5->notebook>=4.4.1->widgetsnbextension~=3.6.0->ipywidgets>=7->nglview->-r requirements.txt (line 9)) (4.11.2)\n",
            "Requirement already satisfied: bleach in /usr/local/lib/python3.10/dist-packages (from nbconvert>=5->notebook>=4.4.1->widgetsnbextension~=3.6.0->ipywidgets>=7->nglview->-r requirements.txt (line 9)) (6.0.0)\n",
            "Requirement already satisfied: defusedxml in /usr/local/lib/python3.10/dist-packages (from nbconvert>=5->notebook>=4.4.1->widgetsnbextension~=3.6.0->ipywidgets>=7->nglview->-r requirements.txt (line 9)) (0.7.1)\n",
            "Requirement already satisfied: entrypoints>=0.2.2 in /usr/local/lib/python3.10/dist-packages (from nbconvert>=5->notebook>=4.4.1->widgetsnbextension~=3.6.0->ipywidgets>=7->nglview->-r requirements.txt (line 9)) (0.4)\n",
            "Requirement already satisfied: jupyterlab-pygments in /usr/local/lib/python3.10/dist-packages (from nbconvert>=5->notebook>=4.4.1->widgetsnbextension~=3.6.0->ipywidgets>=7->nglview->-r requirements.txt (line 9)) (0.2.2)\n",
            "Requirement already satisfied: MarkupSafe>=2.0 in /usr/local/lib/python3.10/dist-packages (from nbconvert>=5->notebook>=4.4.1->widgetsnbextension~=3.6.0->ipywidgets>=7->nglview->-r requirements.txt (line 9)) (2.1.3)\n",
            "Requirement already satisfied: mistune<2,>=0.8.1 in /usr/local/lib/python3.10/dist-packages (from nbconvert>=5->notebook>=4.4.1->widgetsnbextension~=3.6.0->ipywidgets>=7->nglview->-r requirements.txt (line 9)) (0.8.4)\n",
            "Requirement already satisfied: nbclient>=0.5.0 in /usr/local/lib/python3.10/dist-packages (from nbconvert>=5->notebook>=4.4.1->widgetsnbextension~=3.6.0->ipywidgets>=7->nglview->-r requirements.txt (line 9)) (0.8.0)\n",
            "Requirement already satisfied: pandocfilters>=1.4.1 in /usr/local/lib/python3.10/dist-packages (from nbconvert>=5->notebook>=4.4.1->widgetsnbextension~=3.6.0->ipywidgets>=7->nglview->-r requirements.txt (line 9)) (1.5.0)\n",
            "Requirement already satisfied: tinycss2 in /usr/local/lib/python3.10/dist-packages (from nbconvert>=5->notebook>=4.4.1->widgetsnbextension~=3.6.0->ipywidgets>=7->nglview->-r requirements.txt (line 9)) (1.2.1)\n",
            "Requirement already satisfied: fastjsonschema in /usr/local/lib/python3.10/dist-packages (from nbformat->notebook>=4.4.1->widgetsnbextension~=3.6.0->ipywidgets>=7->nglview->-r requirements.txt (line 9)) (2.18.0)\n",
            "Requirement already satisfied: jsonschema>=2.6 in /usr/local/lib/python3.10/dist-packages (from nbformat->notebook>=4.4.1->widgetsnbextension~=3.6.0->ipywidgets>=7->nglview->-r requirements.txt (line 9)) (4.19.0)\n",
            "Requirement already satisfied: argon2-cffi-bindings in /usr/local/lib/python3.10/dist-packages (from argon2-cffi->notebook>=4.4.1->widgetsnbextension~=3.6.0->ipywidgets>=7->nglview->-r requirements.txt (line 9)) (21.2.0)\n",
            "Requirement already satisfied: attrs>=22.2.0 in /usr/local/lib/python3.10/dist-packages (from jsonschema>=2.6->nbformat->notebook>=4.4.1->widgetsnbextension~=3.6.0->ipywidgets>=7->nglview->-r requirements.txt (line 9)) (23.1.0)\n",
            "Requirement already satisfied: jsonschema-specifications>=2023.03.6 in /usr/local/lib/python3.10/dist-packages (from jsonschema>=2.6->nbformat->notebook>=4.4.1->widgetsnbextension~=3.6.0->ipywidgets>=7->nglview->-r requirements.txt (line 9)) (2023.7.1)\n",
            "Requirement already satisfied: referencing>=0.28.4 in /usr/local/lib/python3.10/dist-packages (from jsonschema>=2.6->nbformat->notebook>=4.4.1->widgetsnbextension~=3.6.0->ipywidgets>=7->nglview->-r requirements.txt (line 9)) (0.30.2)\n",
            "Requirement already satisfied: rpds-py>=0.7.1 in /usr/local/lib/python3.10/dist-packages (from jsonschema>=2.6->nbformat->notebook>=4.4.1->widgetsnbextension~=3.6.0->ipywidgets>=7->nglview->-r requirements.txt (line 9)) (0.10.2)\n",
            "Requirement already satisfied: anyio<4,>=3.1.0 in /usr/local/lib/python3.10/dist-packages (from jupyter-server>=1.8->nbclassic>=0.4.7->notebook>=4.4.1->widgetsnbextension~=3.6.0->ipywidgets>=7->nglview->-r requirements.txt (line 9)) (3.7.1)\n",
            "Requirement already satisfied: websocket-client in /usr/local/lib/python3.10/dist-packages (from jupyter-server>=1.8->nbclassic>=0.4.7->notebook>=4.4.1->widgetsnbextension~=3.6.0->ipywidgets>=7->nglview->-r requirements.txt (line 9)) (1.6.2)\n",
            "Requirement already satisfied: cffi>=1.0.1 in /usr/local/lib/python3.10/dist-packages (from argon2-cffi-bindings->argon2-cffi->notebook>=4.4.1->widgetsnbextension~=3.6.0->ipywidgets>=7->nglview->-r requirements.txt (line 9)) (1.15.1)\n",
            "Requirement already satisfied: soupsieve>1.2 in /usr/local/lib/python3.10/dist-packages (from beautifulsoup4->nbconvert>=5->notebook>=4.4.1->widgetsnbextension~=3.6.0->ipywidgets>=7->nglview->-r requirements.txt (line 9)) (2.5)\n",
            "Requirement already satisfied: webencodings in /usr/local/lib/python3.10/dist-packages (from bleach->nbconvert>=5->notebook>=4.4.1->widgetsnbextension~=3.6.0->ipywidgets>=7->nglview->-r requirements.txt (line 9)) (0.5.1)\n",
            "Requirement already satisfied: idna>=2.8 in /usr/local/lib/python3.10/dist-packages (from anyio<4,>=3.1.0->jupyter-server>=1.8->nbclassic>=0.4.7->notebook>=4.4.1->widgetsnbextension~=3.6.0->ipywidgets>=7->nglview->-r requirements.txt (line 9)) (3.4)\n",
            "Requirement already satisfied: sniffio>=1.1 in /usr/local/lib/python3.10/dist-packages (from anyio<4,>=3.1.0->jupyter-server>=1.8->nbclassic>=0.4.7->notebook>=4.4.1->widgetsnbextension~=3.6.0->ipywidgets>=7->nglview->-r requirements.txt (line 9)) (1.3.0)\n",
            "Requirement already satisfied: exceptiongroup in /usr/local/lib/python3.10/dist-packages (from anyio<4,>=3.1.0->jupyter-server>=1.8->nbclassic>=0.4.7->notebook>=4.4.1->widgetsnbextension~=3.6.0->ipywidgets>=7->nglview->-r requirements.txt (line 9)) (1.1.3)\n",
            "Requirement already satisfied: pycparser in /usr/local/lib/python3.10/dist-packages (from cffi>=1.0.1->argon2-cffi-bindings->argon2-cffi->notebook>=4.4.1->widgetsnbextension~=3.6.0->ipywidgets>=7->nglview->-r requirements.txt (line 9)) (2.21)\n",
            "Processing /content/proscope\n",
            "  Preparing metadata (setup.py) ... \u001b[?25l\u001b[?25hdone\n",
            "Building wheels for collected packages: proscope\n",
            "  Building wheel for proscope (setup.py) ... \u001b[?25l\u001b[?25hdone\n",
            "  Created wheel for proscope: filename=proscope-0.1-py3-none-any.whl size=116456540 sha256=7b92fa50bc98b589f8a870f37173f17e480b1287cfd1be9aac611bcb664345e7\n",
            "  Stored in directory: /tmp/pip-ephem-wheel-cache-hsep_aej/wheels/15/29/fb/0f5d79c5526abd5fcdee17a2b726109aa92331409afd8b5c4d\n",
            "Successfully built proscope\n",
            "Installing collected packages: proscope\n",
            "  Attempting uninstall: proscope\n",
            "    Found existing installation: proscope 0.1\n",
            "    Uninstalling proscope-0.1:\n",
            "      Successfully uninstalled proscope-0.1\n",
            "Successfully installed proscope-0.1\n"
          ]
        }
      ]
    },
    {
      "cell_type": "code",
      "source": [
        "from proscope.protein import Protein"
      ],
      "metadata": {
        "colab": {
          "base_uri": "https://localhost:8080/"
        },
        "id": "9-rxZDJWNFDA",
        "outputId": "3ddab11b-d330-4047-9296-7b7ea6ed6772"
      },
      "execution_count": 2,
      "outputs": [
        {
          "output_type": "stream",
          "name": "stderr",
          "text": [
            "566996it [00:11, 51026.95it/s]\n"
          ]
        }
      ]
    },
    {
      "cell_type": "code",
      "source": [
        "!wget https://huggingface.co/spaces/ntranoslab/esm_variants/resolve/main/ALL_hum_isoforms_ESM1b_LLR.zip"
      ],
      "metadata": {
        "colab": {
          "base_uri": "https://localhost:8080/"
        },
        "id": "rxB6L5x0NRvP",
        "outputId": "fbc74457-c4d9-4793-9b88-a87da366737d"
      },
      "execution_count": 16,
      "outputs": [
        {
          "output_type": "stream",
          "name": "stdout",
          "text": [
            "--2023-09-22 14:18:47--  https://huggingface.co/spaces/ntranoslab/esm_variants/resolve/main/ALL_hum_isoforms_ESM1b_LLR.zip\n",
            "Resolving huggingface.co (huggingface.co)... 65.8.178.27, 65.8.178.118, 65.8.178.93, ...\n",
            "Connecting to huggingface.co (huggingface.co)|65.8.178.27|:443... connected.\n",
            "HTTP request sent, awaiting response... 302 Found\n",
            "Location: https://cdn-lfs.huggingface.co/repos/3f/29/3f290c660a25bb8ea047d3ccc3769eae58a3dc0ce9166d1f7dc5884b0e8e924d/42b90ce74a007ce7147f8e4be4035fe7f11881215fecce0983441cc229207cd0?response-content-disposition=attachment%3B+filename*%3DUTF-8%27%27ALL_hum_isoforms_ESM1b_LLR.zip%3B+filename%3D%22ALL_hum_isoforms_ESM1b_LLR.zip%22%3B&response-content-type=application%2Fzip&Expires=1695651527&Policy=eyJTdGF0ZW1lbnQiOlt7IkNvbmRpdGlvbiI6eyJEYXRlTGVzc1RoYW4iOnsiQVdTOkVwb2NoVGltZSI6MTY5NTY1MTUyN319LCJSZXNvdXJjZSI6Imh0dHBzOi8vY2RuLWxmcy5odWdnaW5nZmFjZS5jby9yZXBvcy8zZi8yOS8zZjI5MGM2NjBhMjViYjhlYTA0N2QzY2NjMzc2OWVhZTU4YTNkYzBjZTkxNjZkMWY3ZGM1ODg0YjBlOGU5MjRkLzQyYjkwY2U3NGEwMDdjZTcxNDdmOGU0YmU0MDM1ZmU3ZjExODgxMjE1ZmVjY2UwOTgzNDQxY2MyMjkyMDdjZDA%7EcmVzcG9uc2UtY29udGVudC1kaXNwb3NpdGlvbj0qJnJlc3BvbnNlLWNvbnRlbnQtdHlwZT0qIn1dfQ__&Signature=HzYh0s4m7MTeVQD6LsRxogpmaGfZoN2CRJzmEOZvgWiQa7yKlKZzzXpxeltfqTEPuRrGaweNKpnpfCyyRi-vajMRnTy7d82q0ALQfhgNRYjpYrT3WW6E9sMd83bUDXjdTJdMo4okodLP6eg5rzMDdhmksEzq6hJeEF1WuMPVPvYUMVOkSB0CNk9QedNUz5bhfrSdNgHi7cB5deDsrs68v3r0vU7G0209ZJe-16i9D5DvpgDqxWaDer81dPWTo%7EOZrWQTIGfe0KV8e8X7B-1iObWxxQP00mT8KP8hx7Yd4hRSaGsI1JZ5k2LXixsIypM4ApHJa1iL6adfSyMbh135vA__&Key-Pair-Id=KVTP0A1DKRTAX [following]\n",
            "--2023-09-22 14:18:47--  https://cdn-lfs.huggingface.co/repos/3f/29/3f290c660a25bb8ea047d3ccc3769eae58a3dc0ce9166d1f7dc5884b0e8e924d/42b90ce74a007ce7147f8e4be4035fe7f11881215fecce0983441cc229207cd0?response-content-disposition=attachment%3B+filename*%3DUTF-8%27%27ALL_hum_isoforms_ESM1b_LLR.zip%3B+filename%3D%22ALL_hum_isoforms_ESM1b_LLR.zip%22%3B&response-content-type=application%2Fzip&Expires=1695651527&Policy=eyJTdGF0ZW1lbnQiOlt7IkNvbmRpdGlvbiI6eyJEYXRlTGVzc1RoYW4iOnsiQVdTOkVwb2NoVGltZSI6MTY5NTY1MTUyN319LCJSZXNvdXJjZSI6Imh0dHBzOi8vY2RuLWxmcy5odWdnaW5nZmFjZS5jby9yZXBvcy8zZi8yOS8zZjI5MGM2NjBhMjViYjhlYTA0N2QzY2NjMzc2OWVhZTU4YTNkYzBjZTkxNjZkMWY3ZGM1ODg0YjBlOGU5MjRkLzQyYjkwY2U3NGEwMDdjZTcxNDdmOGU0YmU0MDM1ZmU3ZjExODgxMjE1ZmVjY2UwOTgzNDQxY2MyMjkyMDdjZDA%7EcmVzcG9uc2UtY29udGVudC1kaXNwb3NpdGlvbj0qJnJlc3BvbnNlLWNvbnRlbnQtdHlwZT0qIn1dfQ__&Signature=HzYh0s4m7MTeVQD6LsRxogpmaGfZoN2CRJzmEOZvgWiQa7yKlKZzzXpxeltfqTEPuRrGaweNKpnpfCyyRi-vajMRnTy7d82q0ALQfhgNRYjpYrT3WW6E9sMd83bUDXjdTJdMo4okodLP6eg5rzMDdhmksEzq6hJeEF1WuMPVPvYUMVOkSB0CNk9QedNUz5bhfrSdNgHi7cB5deDsrs68v3r0vU7G0209ZJe-16i9D5DvpgDqxWaDer81dPWTo%7EOZrWQTIGfe0KV8e8X7B-1iObWxxQP00mT8KP8hx7Yd4hRSaGsI1JZ5k2LXixsIypM4ApHJa1iL6adfSyMbh135vA__&Key-Pair-Id=KVTP0A1DKRTAX\n",
            "Resolving cdn-lfs.huggingface.co (cdn-lfs.huggingface.co)... 108.157.162.27, 108.157.162.58, 108.157.162.95, ...\n",
            "Connecting to cdn-lfs.huggingface.co (cdn-lfs.huggingface.co)|108.157.162.27|:443... connected.\n",
            "HTTP request sent, awaiting response... 200 OK\n",
            "Length: 1335361543 (1.2G) [application/zip]\n",
            "Saving to: ‘ALL_hum_isoforms_ESM1b_LLR.zip’\n",
            "\n",
            "ALL_hum_isoforms_ES 100%[===================>]   1.24G  55.3MB/s    in 22s     \n",
            "\n",
            "2023-09-22 14:19:09 (58.6 MB/s) - ‘ALL_hum_isoforms_ESM1b_LLR.zip’ saved [1335361543/1335361543]\n",
            "\n"
          ]
        }
      ]
    },
    {
      "cell_type": "code",
      "source": [
        "!unzip /content/ALL_hum_isoforms_ESM1b_LLR.zip"
      ],
      "metadata": {
        "id": "FryTfYzpQk70"
      },
      "execution_count": null,
      "outputs": []
    },
    {
      "cell_type": "code",
      "source": [
        "!wget https://storage.googleapis.com/dm_alphamissense/AlphaMissense_aa_substitutions.tsv.gz"
      ],
      "metadata": {
        "id": "1KQy3jIqNU9K",
        "colab": {
          "base_uri": "https://localhost:8080/"
        },
        "outputId": "84672df8-4458-4a8d-bde2-1e994472efe4"
      },
      "execution_count": 15,
      "outputs": [
        {
          "output_type": "stream",
          "name": "stdout",
          "text": [
            "--2023-09-22 14:12:02--  https://storage.googleapis.com/dm_alphamissense/AlphaMissense_aa_substitutions.tsv.gz\n",
            "Resolving storage.googleapis.com (storage.googleapis.com)... 172.253.123.207, 142.250.97.207, 142.251.107.207, ...\n",
            "Connecting to storage.googleapis.com (storage.googleapis.com)|172.253.123.207|:443... connected.\n",
            "HTTP request sent, awaiting response... 200 OK\n",
            "Length: 1207278510 (1.1G) [application/x-gzip]\n",
            "Saving to: ‘AlphaMissense_aa_substitutions.tsv.gz’\n",
            "\n",
            "AlphaMissense_aa_su 100%[===================>]   1.12G  80.7MB/s    in 15s     \n",
            "\n",
            "2023-09-22 14:12:17 (75.2 MB/s) - ‘AlphaMissense_aa_substitutions.tsv.gz’ saved [1207278510/1207278510]\n",
            "\n"
          ]
        }
      ]
    },
    {
      "cell_type": "code",
      "source": [
        "!wget https://2023-get-xf2217.s3.amazonaws.com/get_demo_test_data/esm1v.feather"
      ],
      "metadata": {
        "colab": {
          "base_uri": "https://localhost:8080/"
        },
        "id": "yf6aEx5yR_3V",
        "outputId": "e2cbf5fb-913b-49d1-a53f-747209de56e4"
      },
      "execution_count": 5,
      "outputs": [
        {
          "output_type": "stream",
          "name": "stdout",
          "text": [
            "--2023-09-22 14:25:30--  https://2023-get-xf2217.s3.amazonaws.com/get_demo_test_data/esm1v.feather\n",
            "Resolving 2023-get-xf2217.s3.amazonaws.com (2023-get-xf2217.s3.amazonaws.com)... 54.231.201.169, 3.5.1.131, 52.217.173.137, ...\n",
            "Connecting to 2023-get-xf2217.s3.amazonaws.com (2023-get-xf2217.s3.amazonaws.com)|54.231.201.169|:443... connected.\n",
            "HTTP request sent, awaiting response... 200 OK\n",
            "Length: 4107329298 (3.8G) [binary/octet-stream]\n",
            "Saving to: ‘esm1v.feather’\n",
            "\n",
            "esm1v.feather       100%[===================>]   3.83G  27.5MB/s    in 2m 10s  \n",
            "\n",
            "2023-09-22 14:27:41 (30.0 MB/s) - ‘esm1v.feather’ saved [4107329298/4107329298]\n",
            "\n"
          ]
        }
      ]
    },
    {
      "cell_type": "code",
      "source": [
        "p = Protein('PAX6', use_es=True, esm_folder='/content/content/ALL_hum_isoforms_ESM1b_LLR/', af2_folder='./')\n",
        "p.plotly_plddt()"
      ],
      "metadata": {
        "colab": {
          "base_uri": "https://localhost:8080/",
          "height": 542
        },
        "id": "WwPMd01KOkb-",
        "outputId": "db7d09cb-7814-4e0e-f660-836680c5b764"
      },
      "execution_count": 3,
      "outputs": [
        {
          "output_type": "display_data",
          "data": {
            "text/html": [
              "<html>\n",
              "<head><meta charset=\"utf-8\" /></head>\n",
              "<body>\n",
              "    <div>            <script src=\"https://cdnjs.cloudflare.com/ajax/libs/mathjax/2.7.5/MathJax.js?config=TeX-AMS-MML_SVG\"></script><script type=\"text/javascript\">if (window.MathJax && window.MathJax.Hub && window.MathJax.Hub.Config) {window.MathJax.Hub.Config({SVG: {font: \"STIX-Web\"}});}</script>                <script type=\"text/javascript\">window.PlotlyConfig = {MathJaxConfig: 'local'};</script>\n",
              "        <script charset=\"utf-8\" src=\"https://cdn.plot.ly/plotly-2.24.1.min.js\"></script>                <div id=\"f1305c7e-e568-4cdc-a216-72296e3b4360\" class=\"plotly-graph-div\" style=\"height:525px; width:100%;\"></div>            <script type=\"text/javascript\">                                    window.PLOTLYENV=window.PLOTLYENV || {};                                    if (document.getElementById(\"f1305c7e-e568-4cdc-a216-72296e3b4360\")) {                    Plotly.newPlot(                        \"f1305c7e-e568-4cdc-a216-72296e3b4360\",                        [{\"fill\":\"toself\",\"fillcolor\":\"grey\",\"hoverinfo\":\"text\",\"hovertext\":[\"PAX6_0 pLDDT=0.94\"],\"legendgroup\":\"pLDDT Segments\",\"legendgrouptitle\":{\"text\":\"pLDDT Segments\"},\"line\":{\"color\":\"black\"},\"mode\":\"lines\",\"name\":\"PAX6_0 pLDDT=0.94\",\"opacity\":0.2,\"showlegend\":true,\"x\":[0,138,138,0],\"y\":[0.8,0.8,1,1],\"type\":\"scatter\"},{\"fill\":\"toself\",\"fillcolor\":\"grey\",\"hoverinfo\":\"text\",\"hovertext\":[\"PAX6_1 pLDDT=0.47\"],\"legendgroup\":\"pLDDT Segments\",\"legendgrouptitle\":{\"text\":\"pLDDT Segments\"},\"line\":{\"color\":\"black\"},\"mode\":\"lines\",\"name\":\"PAX6_1 pLDDT=0.47\",\"opacity\":0.2,\"showlegend\":true,\"x\":[138,210,210,138],\"y\":[0.8,0.8,1,1],\"type\":\"scatter\"},{\"fill\":\"toself\",\"fillcolor\":\"grey\",\"hoverinfo\":\"text\",\"hovertext\":[\"PAX6_2 pLDDT=0.91\"],\"legendgroup\":\"pLDDT Segments\",\"legendgrouptitle\":{\"text\":\"pLDDT Segments\"},\"line\":{\"color\":\"black\"},\"mode\":\"lines\",\"name\":\"PAX6_2 pLDDT=0.91\",\"opacity\":0.2,\"showlegend\":true,\"x\":[210,278,278,210],\"y\":[0.8,0.8,1,1],\"type\":\"scatter\"},{\"fill\":\"toself\",\"fillcolor\":\"grey\",\"hoverinfo\":\"text\",\"hovertext\":[\"PAX6_3 pLDDT=0.47\"],\"legendgroup\":\"pLDDT Segments\",\"legendgrouptitle\":{\"text\":\"pLDDT Segments\"},\"line\":{\"color\":\"black\"},\"mode\":\"lines\",\"name\":\"PAX6_3 pLDDT=0.47\",\"opacity\":0.2,\"showlegend\":true,\"x\":[278,422,422,278],\"y\":[0.8,0.8,1,1],\"type\":\"scatter\"},{\"fill\":\"toself\",\"fillcolor\":\"rgb(1.0, 1.0, 0.7019607843137254)\",\"hoverinfo\":\"text\",\"hovertext\":[\"Paired\"],\"legendgroup\":\"DNA-binding region\",\"legendgrouptitle\":{\"text\":\"DNA-binding region\"},\"line\":{\"color\":\"rgb(1.0, 1.0, 0.7019607843137254)\"},\"mode\":\"lines\",\"name\":\"Paired\",\"opacity\":0.2,\"showlegend\":true,\"x\":[4,130,130,4],\"y\":[0.6,0.6,0.8,0.8],\"type\":\"scatter\"},{\"fill\":\"toself\",\"fillcolor\":\"rgb(0.7450980392156863, 0.7294117647058823, 0.8549019607843137)\",\"hoverinfo\":\"text\",\"hovertext\":[\"Homeobox\"],\"legendgroup\":\"DNA-binding region\",\"legendgrouptitle\":{\"text\":\"DNA-binding region\"},\"line\":{\"color\":\"rgb(0.7450980392156863, 0.7294117647058823, 0.8549019607843137)\"},\"mode\":\"lines\",\"name\":\"Homeobox\",\"opacity\":0.2,\"showlegend\":true,\"x\":[210,269,269,210],\"y\":[0.6,0.6,0.8,0.8],\"type\":\"scatter\"},{\"fill\":\"toself\",\"fillcolor\":\"rgb(0.984313725490196, 0.5019607843137255, 0.4470588235294118)\",\"hoverinfo\":\"text\",\"hovertext\":[\"PAI subdomain\"],\"legendgroup\":\"region of interest\",\"legendgrouptitle\":{\"text\":\"region of interest\"},\"line\":{\"color\":\"rgb(0.984313725490196, 0.5019607843137255, 0.4470588235294118)\"},\"mode\":\"lines\",\"name\":\"PAI subdomain\",\"opacity\":0.2,\"showlegend\":true,\"x\":[7,63,63,7],\"y\":[0.6,0.6,0.8,0.8],\"type\":\"scatter\"},{\"fill\":\"toself\",\"fillcolor\":\"rgb(0.5019607843137255, 0.6941176470588235, 0.8274509803921568)\",\"hoverinfo\":\"text\",\"hovertext\":[\"RED subdomain\"],\"legendgroup\":\"region of interest\",\"legendgrouptitle\":{\"text\":\"region of interest\"},\"line\":{\"color\":\"rgb(0.5019607843137255, 0.6941176470588235, 0.8274509803921568)\"},\"mode\":\"lines\",\"name\":\"RED subdomain\",\"opacity\":0.2,\"showlegend\":true,\"x\":[82,130,130,82],\"y\":[0.6,0.6,0.8,0.8],\"type\":\"scatter\"},{\"fill\":\"toself\",\"fillcolor\":\"rgb(0.9921568627450981, 0.7058823529411765, 0.3843137254901961)\",\"hoverinfo\":\"text\",\"hovertext\":[\"Disordered\"],\"legendgroup\":\"region of interest\",\"legendgrouptitle\":{\"text\":\"region of interest\"},\"line\":{\"color\":\"rgb(0.9921568627450981, 0.7058823529411765, 0.3843137254901961)\"},\"mode\":\"lines\",\"name\":\"Disordered\",\"opacity\":0.2,\"showlegend\":true,\"x\":[162,201,201,162],\"y\":[0.6,0.6,0.8,0.8],\"type\":\"scatter\"},{\"fill\":\"toself\",\"fillcolor\":\"rgb(0.9921568627450981, 0.7058823529411765, 0.3843137254901961)\",\"hoverinfo\":\"text\",\"hovertext\":[\"Disordered\"],\"legendgroup\":\"region of interest\",\"legendgrouptitle\":{\"text\":\"region of interest\"},\"line\":{\"color\":\"rgb(0.9921568627450981, 0.7058823529411765, 0.3843137254901961)\"},\"mode\":\"lines\",\"name\":\"Disordered\",\"opacity\":0.2,\"showlegend\":true,\"x\":[269,311,311,269],\"y\":[0.6,0.6,0.8,0.8],\"type\":\"scatter\"},{\"fill\":\"toself\",\"fillcolor\":\"rgb(0.7019607843137254, 0.8705882352941177, 0.4117647058823529)\",\"hoverinfo\":\"text\",\"hovertext\":[\"Required for suppression of NFATC1-mediated transcription\"],\"legendgroup\":\"region of interest\",\"legendgrouptitle\":{\"text\":\"region of interest\"},\"line\":{\"color\":\"rgb(0.7019607843137254, 0.8705882352941177, 0.4117647058823529)\"},\"mode\":\"lines\",\"name\":\"Required for suppression of NFATC1-mediated transcription\",\"opacity\":0.2,\"showlegend\":true,\"x\":[345,422,422,345],\"y\":[0.6,0.6,0.8,0.8],\"type\":\"scatter\"},{\"line\":{\"color\":\"orange\"},\"mode\":\"lines\",\"name\":\"pLDDT\",\"y\":[0.3020785408295761,0.39303131613655196,0.4868979337279801,0.5836374975717982,0.679814740974757,0.7774949135560123,0.8273778486642335,0.8698074819290659,0.9109897862159925,0.9447801327076241,0.9585109754726049,0.964400004089603,0.9651463566747437,0.9620587062540256,0.9621200503021194,0.9626414747109162,0.9640932838491345,0.9665163737488369,0.9692359598809925,0.971198969419992,0.9729370507826479,0.9765052295801,0.9820773139486143,0.9885082149904407,0.9926182662127208,0.9944892596795796,0.9965851813227823,0.9986197589178911,0.9995501436473126,0.9999795519839687,1.0,0.9986299829259067,0.9978836303407662,0.997403101964032,0.9964215971945323,0.9958899487777201,0.99556278052122,0.9957365886574855,0.9961046529460479,0.9962886850903291,0.9962477890582668,0.996943021603329,0.997403101964032,0.997730270220532,0.9981801265732194,0.9983948307415474,0.9984766228056725,0.9977200462125164,0.997812062284657,0.9984152787575785,0.9989775991984376,0.9991002872946252,0.999110511302641,0.9981494545491726,0.9972804138678446,0.997321309899907,0.9966771973949228,0.9962171170342197,0.9936406670142831,0.9911869050905336,0.9890909834473313,0.9866167735075505,0.9846742119845823,0.9827623224856608,0.9791532476561462,0.9734584751914445,0.9652383727468843,0.9562003496610743,0.9471112065351859,0.9405473933891565,0.9296792728685499,0.9153043175985851,0.9036693964768069,0.8941815170383094,0.8910325225694977,0.8916868590824976,0.89649214284984,0.9028105798034946,0.9124620433702422,0.9198028811254588,0.9311822020468467,0.946927174390905,0.9597583044505109,0.9704321688188204,0.9769141899007249,0.9805743847703178,0.9811776012432394,0.9807993129466613,0.9791634716641618,0.9743172918647568,0.970033432506211,0.9650850126266501,0.9611180975165885,0.9595436002821826,0.9595333762741671,0.9604126409635106,0.9634696193601818,0.9670991422057276,0.9698085043298673,0.9753601406823503,0.9799813923054116,0.9855432526659103,0.9889376233270968,0.9902667443691274,0.9893261356316903,0.9859828850105818,0.9833757629665982,0.9807175208825364,0.9776605424858653,0.9738469874960382,0.9698187283378832,0.966301669580509,0.9648600844503062,0.9647373963541186,0.9652383727468842,0.9684282632477584,0.9701663446104143,0.9709433692196014,0.9738572115040539,0.9780286067744278,0.9815354415237864,0.9839483074154732,0.98463331595252,0.9834371070146921,0.9815354415237864,0.9769857579568343,0.9712398654520545,0.9633673792800254,0.9478166630882641,0.9274606631291602,0.8970851353147462,0.8604831866188184,0.8201596990052041,0.7761964645380284,0.7334805590487583,0.6933411035794252,0.6532732161662016,0.6198202619390853,0.5869398521608442,0.5648150988150376,0.5527814413806501,0.5472707010602297,0.5499391671523072,0.5551125152082119,0.5600098150476951,0.559120326350336,0.5516874725229786,0.5413510004191844,0.5324561134455928,0.5104540481959737,0.4916827694792913,0.46962958418959405,0.4463392939300065,0.42965371284851095,0.4113322904845158,0.40076066619636236,0.3912625627498493,0.3855882383011789,0.3832162684415545,0.39163062703841167,0.3968550951343946,0.40375630054493966,0.41270230755860915,0.4217812266764817,0.4252573894017933,0.42214929096504417,0.4294799047122453,0.4309419378584793,0.43457146070402525,0.43464302876013455,0.4303182733695264,0.4271692789007147,0.4093795049535319,0.39874653661728476,0.38677422323099103,0.3846476295637416,0.3750881820691348,0.3721845637926981,0.3614800274003415,0.35780960852273314,0.35833103293152985,0.36318743673895054,0.3767546953756813,0.375354006277541,0.3866106391027411,0.3925098917277552,0.40123097056508095,0.403664284472799,0.41405187661667125,0.4229058675582002,0.43603349385025914,0.45046979316831787,0.4697318242697502,0.4941160833870094,0.5169769653099408,0.5417599607398093,0.5655205553681154,0.5890459978120625,0.6135631690335246,0.6272837877904897,0.6351460499545032,0.6357390424194094,0.6307292784917543,0.6258319786522714,0.6061507632221984,0.59024220674989,0.5721968326023167,0.5686388778128803,0.5643345704383033,0.5752129149669253,0.5998425502765595,0.6296455336420985,0.6665746505945261,0.7057837213344377,0.756637937204143,0.8014906603686778,0.851588299645227,0.8887934648140766,0.9245570448527233,0.9497592246112321,0.9652792687789469,0.9765665736281937,0.9826089623654266,0.984357267736098,0.9862896052510507,0.9868110296598473,0.9859726610025662,0.9846946600006136,0.9837336032471452,0.984173235591817,0.9825373943093173,0.9826191863734419,0.9822306740688487,0.9822306740688488,0.9820261939085362,0.9836109151509577,0.9857988528663009,0.9875676062530035,0.9884264229263158,0.9884877669744092,0.9892954636076436,0.9889376233270968,0.9883037348301283,0.9876493983171283,0.9846230919445041,0.9823738101810673,0.9809424490588801,0.9791430236481304,0.9776094224457872,0.9770471020049281,0.976863069860647,0.9758917890991627,0.9770777740289749,0.9790714555920214,0.9818728337883019,0.9833348669345359,0.9841732355918167,0.9856454927460664,0.9853489965136132,0.9826805304215359,0.9788465274156778,0.975370364690366,0.9658824852518686,0.9555255651320432,0.9401997771166254,0.9233506119068797,0.9040272367573536,0.8878528560766393,0.8699812900653315,0.8478565367195249,0.8279503931131084,0.8007340837755217,0.7713502847386233,0.7414552853009437,0.7200871085482933,0.691971086505332,0.6625872874684334,0.6292672453455204,0.5886779335235,0.5601325031438825,0.5315564007402183,0.5147583555705508,0.4998210798597267,0.47555950883865505,0.45739144659489417,0.4477399830281467,0.44440695641505384,0.4373830629083213,0.438609943870196,0.4384156877178992,0.43810896747743067,0.4318825465959165,0.4335081638704004,0.4437117238699915,0.4523101146111299,0.4606938011839401,0.46192068214581483,0.4690161437086567,0.4777269985379669,0.4844543958122463,0.48519052438937116,0.4918259055915101,0.4872557740085268,0.48550746863785543,0.4832070668343404,0.4749256203416864,0.4685560633479537,0.46078581725608075,0.45462074042266054,0.44876238382970896,0.4459814536494596,0.43514400515289997,0.4366469343311965,0.43422384443149403,0.42889713625535486,0.4261775501231993,0.4315962743714791,0.4343260845116503,0.4349804210246501,0.42561522968234006,0.42258892330971587,0.4197670970974042,0.41596376611559266,0.41921500066456063,0.42851884795877687,0.44695273441094385,0.4508276334488646,0.4551319408234416,0.4656115490394545,0.4682902391395475,0.47376008342790543,0.48004784835751313,0.49011849625290116,0.48822705477001105,0.4816530176159659,0.46294308294737707,0.46750299052234456,0.46352585140426755,0.45661442198570684,0.4654990849512826,0.4759071251111861,0.48414767557177774,0.49101820895827586,0.4983590467134926,0.4930834585774316,0.5011195288777107,0.4837796112832152,0.48884049525094825,0.4813054013434346,0.4818983938083408,0.46496743653447037,0.4597736404625341,0.46291241092333024,0.46044842499156524,0.4649367645104235,0.4579333190197222,0.4723082742896872,0.47278880266642137,0.47574354098293625,0.48621292519093345,0.4896379678761668,0.4858346368943553,0.46985451236593767,0.46715537424981335,0.46135836170495564,0.46872987148421924,0.4594669202220654,0.4530155711642079,0.46926151990103165,0.46226829841834594,0.48176548170413763,0.4857119487981679,0.48950505577196374,0.488687135130714,0.4885439990184952,0.48500649224508996,0.4858346368943554,0.4935946589782127,0.47975135212506015,0.4754368207424675,0.46500833256653273,0.4662352135284074,0.4626261386988927,0.4628203948511896,0.46515146867875146,0.4616957539694712,0.46149127380915866,0.4528110910038954,0.452903107076036,0.45221809853898937,0.44081832960157047,0.44850678362931845,0.4485374556533653,0.4608982813442526,0.4657649091596888,0.4741588197405147,0.48416812358780886,0.49104888098232274,0.5020499136071324,0.5115684650696767,0.5250539316422823,0.5186639266325185,0.5158421004202067,0.5081127503603963,0.5022952897995072,0.49397294727479063,0.4837182672351215,0.4828798985778405,0.4706110889590938,0.45509104479137913,0.44210655461153886,0.43930517641525835,0.44138065004242966,0.4398470488400863,0.4554182130478791,0.45300534715619223,0.46431310002147047,0.45954871228619043,0.41641362246828,0.3753131102454784,0.33389565377419267,0.2878569456798455],\"type\":\"scatter\"},{\"line\":{\"color\":\"blue\"},\"mode\":\"lines\",\"name\":\"ES\",\"y\":[0.494327097005334,0.48622075079632565,0.47073509773959377,0.4492320053785355,0.42353713956037836,0.3957181490933434,0.3678469561095225,0.3417813582486204,0.3189867813322231,0.3004203771279159,0.28648782989178645,0.2770609181782134,0.2715576709898876,0.26905991947405145,0.26845643074451603,0.2685948385341553,0.26841102612691575,0.2670351651575033,0.2638518827689705,0.25852244375251326,0.25095988380926165,0.24128575704013297,0.22976813322024756,0.2167638166248624,0.2026732413573117,0.18790483547900716,0.17286738108896546,0.1579641497426989,0.143596824684019,0.13016227902007574,0.1180530204003286,0.10763793479032176,0.09923997792105821,0.09311458003963127,0.08942473429448569,0.08821985891554847,0.08943015290778236,0.09287049978531817,0.09825582902846529,0.10522536634041138,0.11337477234564677,0.12228777236006834,0.13156092159796018,0.14082321003006412,0.14974767221790164,0.1580530532012013,0.16550800046224248,0.17192856605443982,0.17717514409097687,0.18116442402784397,0.18387261924350135,0.1853485404516206,0.18571325307822759,0.18516972181699026,0.1840050408124729,0.182582187874246,0.18132798988321866,0.18072174726833237,0.18127570148264116,0.1835157491579638,0.1879603584705851,0.19509263752047157,0.20532594317767802,0.21895887116422755,0.2361171914899479,0.2566976554984526,0.2803214502024118,0.3063112683266487,0.3337063541541265,0.36133384228202453,0.38792242637267127,0.41224521957825977,0.433281738143883,0.45034876784584166,0.4631871636853624,0.4719784901486203,0.4773041464089381,0.4800395852203524,0.48122068294654974,0.48189988984274723,0.4830257401972077,0.4853429135156095,0.48932975646166543,0.49518629624704347,0.5028414361796042,0.5119834575992994,0.5221106402778354,0.5325913767384826,0.5427230620598579,0.5517908398430174,0.5591131903922546,0.564089334686079,0.5662237597760611,0.5651636407801546,0.560704474805438,0.5528044866062906,0.5415901818152891,0.5273548910556369,0.5105413797180968,0.4917279370121635,0.4715889699663035,0.4508568743904935,0.43028010170255654,0.41057686083165196,0.3923982257498931,0.37630072092752176,0.36272992699444195,0.3520117598166579,0.3443602405828976,0.3398923903133066,0.338639598912046,0.34055866687625286,0.345544129724033,0.3534303965754836,0.3639905122485375,0.37694001734465693,0.3919431256949384,0.40862217681180013,0.42657569508655063,0.44539519409629497,0.46468936464364724,0.48409904030735745,0.5033137023825455,0.5220795263605165,0.5402042579496612,0.5575571193854608,0.574072549384974,0.5897490112329666,0.6046316020737611,0.6187936883726992,0.6323073888666898,0.6451991223488307,0.6574025088445216,0.6687147495034215,0.6787699157240216,0.687042204797846,0.6928805336762148,0.695581368135041,0.6944844876335177,0.6890892567238355,0.6791441248900029,0.6647461181462825,0.6463564442495778,0.6247490364042755,0.6009385747459038,0.5761455752844435,0.5516106195298267,0.5285004538119775,0.5078240871746729,0.490374511049344,0.4767035649469717,0.46712043905046924,0.46169376343459767,0.4602354655934783,0.4622647907257373,0.46695781029938865,0.4730929802821494,0.4790441475890035,0.4828441505670384,0.4823559539792711,0.47554074890192055,0.4607841011279788,0.4372125379006735,0.4049208916765551,0.36503690526624843,0.3195893026577796,0.2712172028952906,0.22278305645642496,0.1769211288718096,0.13574619106059882,0.10064695108755962,0.07225175311413065,0.050563572928460296,0.03516709807632925,0.02546548592113851,0.02091981267839047,0.021230919981367308,0.026428646364480165,0.036892609767734154,0.05328146287271516,0.07638457767823838,0.10693012791152323,0.14534766515606387,0.191581741093704,0.24495095797739133,0.3040778468827621,0.3669203443126204,0.4310442067540497,0.4938532487468794,0.5529112322510029,0.6062329864868132,0.6524815270587803,0.6910607446870085,0.7220768446010363,0.7462022495866069,0.7644743514638748,0.778071671632462,0.7881202906254821,0.7955353950497003,0.8009257823481154,0.8045629538892588,0.8063951241751935,0.8061020004697033,0.8031911852633488,0.7971065550328882,0.7873329640552149,0.773500894838886,0.7554698901521301,0.7333659896335719,0.7076187159704301,0.6788942684695694,0.6480684851102338,0.6161401209229493,0.5841334275938255,0.5530351365444575,0.5237297569617093,0.49693628853806504,0.47317592330756125,0.45276163729374064,0.4357764733231196,0.4220770692302472,0.4113176692886769,0.40297024133488085,0.39636402878050453,0.39073380405126873,0.38528544765724076,0.37926428061922945,0.37201807118186303,0.3630689154533674,0.352172181712316,0.33934645327728175,0.3248834492955514,0.3093310589216395,0.2934273328887574,0.27802043628195044,0.2639608462158508,0.2520009619951474,0.24271271519411278,0.23643502416044296,0.23327588217526454,0.233140099933114,0.23579086892428272,0.2409222765259881,0.24822375787077386,0.2574111925759703,0.26825404737051806,0.28057268673115693,0.2942141619150737,0.30903041237578077,0.324865740166951,0.3415476036493754,0.3588891541303447,0.3767045159655871,0.3948326739551853,0.4131554162356069,0.4316183534379244,0.45024638657807087,0.46915558149480413,0.48855548180090047,0.5087513401365922,0.5301365884427421,0.5531691473640279,0.5783355363075525,0.6061026068374848,0.6368472092369624,0.6707723987598708,0.7078167535544807,0.7475797091438556,0.7892544293679533,0.8316413904479169,0.8731619106352232,0.9119461112179894,0.9459622053030223,0.9731736423347777,0.9917059716799157,1.0,0.9969411516999577,0.9819411086625788,0.9549723948952155,0.9165515008437214,0.867682625316889,0.8097776772883717,0.7445562298365513,0.6739531868796719,0.6000285738042452,0.5248879512758976,0.45059662188702543,0.3791012466645562,0.3121385406066054,0.25114180252131935,0.1971595514153841,0.1508019161852158,0.1122214256139458,0.08114116640571274,0.05693274718280621,0.03872179025124915,0.025500865456586776,0.01624602521872755,0.010002466879030687,0.005946192208572529,0.0034088452468908443,0.0018817142462822691,0.0009991476412454351,0.0005085129445354363,0.00024668983616651,0.00011239670719525659,4.600003804932728e-05,1.4737968346242752e-05,2.2895863779385417e-05,7.039954795073106e-05,0.00016973445987109194,0.00037290440968125286,0.0007622917878018256,0.0014885848508488409,0.0027830437201783863,0.005001223165542813,0.00865909169019709,0.014443753938870926,0.02324495367445791,0.03610301741568094,0.054158930060053095,0.07851493903711121,0.11007787554547716,0.14935477496618707,0.19629453271963151,0.25013458136664946,0.30935882396048714,0.3717576627330635,0.43459557890780043,0.49486101412255135,0.5495541152001066,0.5959607543582506,0.6318683420876176,0.6556983267948824,0.6665527986268216,0.6641942600519679,0.6489872357166807,0.6218290387177813,0.5840854255537284,0.5375313072088641,0.4842839928631302,0.42671191957567883,0.3673072163459516,0.30852345692386157,0.25259525293105045,0.20136776268009646,0.15616715734957065,0.11773630662188772,0.0862457638484828,0.06136327049904513,0.04241890927422382,0.028503472038950366,0.01863425509105437,0.011872536374767638,0.007384716642099961,0.004497019977660547,0.0026886130483802324,0.0015801867395593941,0.0009182678652781941,0.000524629654964715,0.00029660867230522437,0.00016274929866583453,8.673281845417802e-05,4.3973357176639536e-05,2.5338415288710335e-05,1.4035751691718053e-05,7.4491442333996854e-06,3.7613134762797378e-06,1.7774654336965048e-06,7.521109254586157e-07,2.4293494549141237e-07,0.0,6.3685035982441875e-06,2.0504152516030796e-05,4.9377975015699504e-05,0.00010658625976184734,0.00021755153040251717,0.0004231156281852726,0.0007920571143740407,0.0014241003730156578,0.0024647540008667854,0.004111795606644462,0.006618087208251102,0.010285865739243815,0.015449641394782773,0.022447031796399695,0.03157875008476534,0.04306351420356688,0.05699762509927551,0.07332790912820053,0.09184083079446335,0.11214868756061354,0.133790181798715,0.15623850066043415,0.17897356979759427,0.20153589851085407,0.22356360225644245,0.24480494105420234,0.26510282282126585,0.2843497463252605,0.3024204280704035,0.3190906743798332,0.3339599092323364,0.3463995280879334,0.3555505247579262,0.3603881050848354,0.35985706835293324,0.35306296114216223,0.3394801064161333,0.31912887103086773,0.2926715139177848,0.2613931978742454,0.22706270037543358,0.19172374834769104,0.15737162601542506,0.12573802330243244,0.09810421877480979,0.07522335306239886,0.057357498009002805,0.0443976596938346,0.03604156783714653,0.03196440058211209],\"type\":\"scatter\"}],                        {\"template\":{\"data\":{\"histogram2dcontour\":[{\"type\":\"histogram2dcontour\",\"colorbar\":{\"outlinewidth\":0,\"ticks\":\"\"},\"colorscale\":[[0.0,\"#0d0887\"],[0.1111111111111111,\"#46039f\"],[0.2222222222222222,\"#7201a8\"],[0.3333333333333333,\"#9c179e\"],[0.4444444444444444,\"#bd3786\"],[0.5555555555555556,\"#d8576b\"],[0.6666666666666666,\"#ed7953\"],[0.7777777777777778,\"#fb9f3a\"],[0.8888888888888888,\"#fdca26\"],[1.0,\"#f0f921\"]]}],\"choropleth\":[{\"type\":\"choropleth\",\"colorbar\":{\"outlinewidth\":0,\"ticks\":\"\"}}],\"histogram2d\":[{\"type\":\"histogram2d\",\"colorbar\":{\"outlinewidth\":0,\"ticks\":\"\"},\"colorscale\":[[0.0,\"#0d0887\"],[0.1111111111111111,\"#46039f\"],[0.2222222222222222,\"#7201a8\"],[0.3333333333333333,\"#9c179e\"],[0.4444444444444444,\"#bd3786\"],[0.5555555555555556,\"#d8576b\"],[0.6666666666666666,\"#ed7953\"],[0.7777777777777778,\"#fb9f3a\"],[0.8888888888888888,\"#fdca26\"],[1.0,\"#f0f921\"]]}],\"heatmap\":[{\"type\":\"heatmap\",\"colorbar\":{\"outlinewidth\":0,\"ticks\":\"\"},\"colorscale\":[[0.0,\"#0d0887\"],[0.1111111111111111,\"#46039f\"],[0.2222222222222222,\"#7201a8\"],[0.3333333333333333,\"#9c179e\"],[0.4444444444444444,\"#bd3786\"],[0.5555555555555556,\"#d8576b\"],[0.6666666666666666,\"#ed7953\"],[0.7777777777777778,\"#fb9f3a\"],[0.8888888888888888,\"#fdca26\"],[1.0,\"#f0f921\"]]}],\"heatmapgl\":[{\"type\":\"heatmapgl\",\"colorbar\":{\"outlinewidth\":0,\"ticks\":\"\"},\"colorscale\":[[0.0,\"#0d0887\"],[0.1111111111111111,\"#46039f\"],[0.2222222222222222,\"#7201a8\"],[0.3333333333333333,\"#9c179e\"],[0.4444444444444444,\"#bd3786\"],[0.5555555555555556,\"#d8576b\"],[0.6666666666666666,\"#ed7953\"],[0.7777777777777778,\"#fb9f3a\"],[0.8888888888888888,\"#fdca26\"],[1.0,\"#f0f921\"]]}],\"contourcarpet\":[{\"type\":\"contourcarpet\",\"colorbar\":{\"outlinewidth\":0,\"ticks\":\"\"}}],\"contour\":[{\"type\":\"contour\",\"colorbar\":{\"outlinewidth\":0,\"ticks\":\"\"},\"colorscale\":[[0.0,\"#0d0887\"],[0.1111111111111111,\"#46039f\"],[0.2222222222222222,\"#7201a8\"],[0.3333333333333333,\"#9c179e\"],[0.4444444444444444,\"#bd3786\"],[0.5555555555555556,\"#d8576b\"],[0.6666666666666666,\"#ed7953\"],[0.7777777777777778,\"#fb9f3a\"],[0.8888888888888888,\"#fdca26\"],[1.0,\"#f0f921\"]]}],\"surface\":[{\"type\":\"surface\",\"colorbar\":{\"outlinewidth\":0,\"ticks\":\"\"},\"colorscale\":[[0.0,\"#0d0887\"],[0.1111111111111111,\"#46039f\"],[0.2222222222222222,\"#7201a8\"],[0.3333333333333333,\"#9c179e\"],[0.4444444444444444,\"#bd3786\"],[0.5555555555555556,\"#d8576b\"],[0.6666666666666666,\"#ed7953\"],[0.7777777777777778,\"#fb9f3a\"],[0.8888888888888888,\"#fdca26\"],[1.0,\"#f0f921\"]]}],\"mesh3d\":[{\"type\":\"mesh3d\",\"colorbar\":{\"outlinewidth\":0,\"ticks\":\"\"}}],\"scatter\":[{\"fillpattern\":{\"fillmode\":\"overlay\",\"size\":10,\"solidity\":0.2},\"type\":\"scatter\"}],\"parcoords\":[{\"type\":\"parcoords\",\"line\":{\"colorbar\":{\"outlinewidth\":0,\"ticks\":\"\"}}}],\"scatterpolargl\":[{\"type\":\"scatterpolargl\",\"marker\":{\"colorbar\":{\"outlinewidth\":0,\"ticks\":\"\"}}}],\"bar\":[{\"error_x\":{\"color\":\"#2a3f5f\"},\"error_y\":{\"color\":\"#2a3f5f\"},\"marker\":{\"line\":{\"color\":\"white\",\"width\":0.5},\"pattern\":{\"fillmode\":\"overlay\",\"size\":10,\"solidity\":0.2}},\"type\":\"bar\"}],\"scattergeo\":[{\"type\":\"scattergeo\",\"marker\":{\"colorbar\":{\"outlinewidth\":0,\"ticks\":\"\"}}}],\"scatterpolar\":[{\"type\":\"scatterpolar\",\"marker\":{\"colorbar\":{\"outlinewidth\":0,\"ticks\":\"\"}}}],\"histogram\":[{\"marker\":{\"pattern\":{\"fillmode\":\"overlay\",\"size\":10,\"solidity\":0.2}},\"type\":\"histogram\"}],\"scattergl\":[{\"type\":\"scattergl\",\"marker\":{\"colorbar\":{\"outlinewidth\":0,\"ticks\":\"\"}}}],\"scatter3d\":[{\"type\":\"scatter3d\",\"line\":{\"colorbar\":{\"outlinewidth\":0,\"ticks\":\"\"}},\"marker\":{\"colorbar\":{\"outlinewidth\":0,\"ticks\":\"\"}}}],\"scattermapbox\":[{\"type\":\"scattermapbox\",\"marker\":{\"colorbar\":{\"outlinewidth\":0,\"ticks\":\"\"}}}],\"scatterternary\":[{\"type\":\"scatterternary\",\"marker\":{\"colorbar\":{\"outlinewidth\":0,\"ticks\":\"\"}}}],\"scattercarpet\":[{\"type\":\"scattercarpet\",\"marker\":{\"colorbar\":{\"outlinewidth\":0,\"ticks\":\"\"}}}],\"carpet\":[{\"aaxis\":{\"endlinecolor\":\"#2a3f5f\",\"gridcolor\":\"#C8D4E3\",\"linecolor\":\"#C8D4E3\",\"minorgridcolor\":\"#C8D4E3\",\"startlinecolor\":\"#2a3f5f\"},\"baxis\":{\"endlinecolor\":\"#2a3f5f\",\"gridcolor\":\"#C8D4E3\",\"linecolor\":\"#C8D4E3\",\"minorgridcolor\":\"#C8D4E3\",\"startlinecolor\":\"#2a3f5f\"},\"type\":\"carpet\"}],\"table\":[{\"cells\":{\"fill\":{\"color\":\"#EBF0F8\"},\"line\":{\"color\":\"white\"}},\"header\":{\"fill\":{\"color\":\"#C8D4E3\"},\"line\":{\"color\":\"white\"}},\"type\":\"table\"}],\"barpolar\":[{\"marker\":{\"line\":{\"color\":\"white\",\"width\":0.5},\"pattern\":{\"fillmode\":\"overlay\",\"size\":10,\"solidity\":0.2}},\"type\":\"barpolar\"}],\"pie\":[{\"automargin\":true,\"type\":\"pie\"}]},\"layout\":{\"autotypenumbers\":\"strict\",\"colorway\":[\"#636efa\",\"#EF553B\",\"#00cc96\",\"#ab63fa\",\"#FFA15A\",\"#19d3f3\",\"#FF6692\",\"#B6E880\",\"#FF97FF\",\"#FECB52\"],\"font\":{\"color\":\"#2a3f5f\"},\"hovermode\":\"closest\",\"hoverlabel\":{\"align\":\"left\"},\"paper_bgcolor\":\"white\",\"plot_bgcolor\":\"white\",\"polar\":{\"bgcolor\":\"white\",\"angularaxis\":{\"gridcolor\":\"#EBF0F8\",\"linecolor\":\"#EBF0F8\",\"ticks\":\"\"},\"radialaxis\":{\"gridcolor\":\"#EBF0F8\",\"linecolor\":\"#EBF0F8\",\"ticks\":\"\"}},\"ternary\":{\"bgcolor\":\"white\",\"aaxis\":{\"gridcolor\":\"#DFE8F3\",\"linecolor\":\"#A2B1C6\",\"ticks\":\"\"},\"baxis\":{\"gridcolor\":\"#DFE8F3\",\"linecolor\":\"#A2B1C6\",\"ticks\":\"\"},\"caxis\":{\"gridcolor\":\"#DFE8F3\",\"linecolor\":\"#A2B1C6\",\"ticks\":\"\"}},\"coloraxis\":{\"colorbar\":{\"outlinewidth\":0,\"ticks\":\"\"}},\"colorscale\":{\"sequential\":[[0.0,\"#0d0887\"],[0.1111111111111111,\"#46039f\"],[0.2222222222222222,\"#7201a8\"],[0.3333333333333333,\"#9c179e\"],[0.4444444444444444,\"#bd3786\"],[0.5555555555555556,\"#d8576b\"],[0.6666666666666666,\"#ed7953\"],[0.7777777777777778,\"#fb9f3a\"],[0.8888888888888888,\"#fdca26\"],[1.0,\"#f0f921\"]],\"sequentialminus\":[[0.0,\"#0d0887\"],[0.1111111111111111,\"#46039f\"],[0.2222222222222222,\"#7201a8\"],[0.3333333333333333,\"#9c179e\"],[0.4444444444444444,\"#bd3786\"],[0.5555555555555556,\"#d8576b\"],[0.6666666666666666,\"#ed7953\"],[0.7777777777777778,\"#fb9f3a\"],[0.8888888888888888,\"#fdca26\"],[1.0,\"#f0f921\"]],\"diverging\":[[0,\"#8e0152\"],[0.1,\"#c51b7d\"],[0.2,\"#de77ae\"],[0.3,\"#f1b6da\"],[0.4,\"#fde0ef\"],[0.5,\"#f7f7f7\"],[0.6,\"#e6f5d0\"],[0.7,\"#b8e186\"],[0.8,\"#7fbc41\"],[0.9,\"#4d9221\"],[1,\"#276419\"]]},\"xaxis\":{\"gridcolor\":\"#EBF0F8\",\"linecolor\":\"#EBF0F8\",\"ticks\":\"\",\"title\":{\"standoff\":15},\"zerolinecolor\":\"#EBF0F8\",\"automargin\":true,\"zerolinewidth\":2},\"yaxis\":{\"gridcolor\":\"#EBF0F8\",\"linecolor\":\"#EBF0F8\",\"ticks\":\"\",\"title\":{\"standoff\":15},\"zerolinecolor\":\"#EBF0F8\",\"automargin\":true,\"zerolinewidth\":2},\"scene\":{\"xaxis\":{\"backgroundcolor\":\"white\",\"gridcolor\":\"#DFE8F3\",\"linecolor\":\"#EBF0F8\",\"showbackground\":true,\"ticks\":\"\",\"zerolinecolor\":\"#EBF0F8\",\"gridwidth\":2},\"yaxis\":{\"backgroundcolor\":\"white\",\"gridcolor\":\"#DFE8F3\",\"linecolor\":\"#EBF0F8\",\"showbackground\":true,\"ticks\":\"\",\"zerolinecolor\":\"#EBF0F8\",\"gridwidth\":2},\"zaxis\":{\"backgroundcolor\":\"white\",\"gridcolor\":\"#DFE8F3\",\"linecolor\":\"#EBF0F8\",\"showbackground\":true,\"ticks\":\"\",\"zerolinecolor\":\"#EBF0F8\",\"gridwidth\":2}},\"shapedefaults\":{\"line\":{\"color\":\"#2a3f5f\"}},\"annotationdefaults\":{\"arrowcolor\":\"#2a3f5f\",\"arrowhead\":0,\"arrowwidth\":1},\"geo\":{\"bgcolor\":\"white\",\"landcolor\":\"white\",\"subunitcolor\":\"#C8D4E3\",\"showland\":true,\"showlakes\":true,\"lakecolor\":\"white\"},\"title\":{\"x\":0.05},\"mapbox\":{\"style\":\"light\"}}},\"xaxis\":{\"title\":{\"text\":\"Residue\"},\"tickvals\":[0,100,200,300,400],\"ticktext\":[1,101,201,301,401]},\"font\":{\"family\":\"Arial\"},\"title\":{\"text\":\"PAX6 pLDDT\"},\"yaxis\":{\"title\":{\"text\":\"pLDDT\"}}},                        {\"responsive\": true}                    ).then(function(){\n",
              "                            \n",
              "var gd = document.getElementById('f1305c7e-e568-4cdc-a216-72296e3b4360');\n",
              "var x = new MutationObserver(function (mutations, observer) {{\n",
              "        var display = window.getComputedStyle(gd).display;\n",
              "        if (!display || display === 'none') {{\n",
              "            console.log([gd, 'removed!']);\n",
              "            Plotly.purge(gd);\n",
              "            observer.disconnect();\n",
              "        }}\n",
              "}});\n",
              "\n",
              "// Listen for the removal of the full notebook cells\n",
              "var notebookContainer = gd.closest('#notebook-container');\n",
              "if (notebookContainer) {{\n",
              "    x.observe(notebookContainer, {childList: true});\n",
              "}}\n",
              "\n",
              "// Listen for the clearing of the current output cell\n",
              "var outputEl = gd.closest('.output');\n",
              "if (outputEl) {{\n",
              "    x.observe(outputEl, {childList: true});\n",
              "}}\n",
              "\n",
              "                        })                };                            </script>        </div>\n",
              "</body>\n",
              "</html>"
            ]
          },
          "metadata": {}
        }
      ]
    },
    {
      "cell_type": "code",
      "source": [
        "# Optionally if you want to use ESM1v or compare with AFMissense. Note that these might need a large amount of memory\n",
        "import pandas as pd\n",
        "esm1v = pd.read_feather(\"./esm1v.feather\")\n",
        "# %%\n",
        "esm1v = esm1v.query('Gene == @p.gene_name')\n",
        "# %%\n",
        "esm1v['pos'] = esm1v['Mutation'].str[1:-1].astype(int)\n",
        "esm1v['aa'] = esm1v['Mutation'].str[-1]\n",
        "esm1v_g_wide = esm1v.pivot(index='pos', columns='aa', values='esm1v_t33_650M_UR90S_1')\n",
        "# %%\n",
        "\n"
      ],
      "metadata": {
        "colab": {
          "base_uri": "https://localhost:8080/"
        },
        "id": "0daMKn9lRV7X",
        "outputId": "de950529-f839-45c3-9e96-e55735cea5af"
      },
      "execution_count": 3,
      "outputs": [
        {
          "output_type": "stream",
          "name": "stderr",
          "text": [
            "<ipython-input-3-4e6ac872206a>:7: SettingWithCopyWarning: \n",
            "A value is trying to be set on a copy of a slice from a DataFrame.\n",
            "Try using .loc[row_indexer,col_indexer] = value instead\n",
            "\n",
            "See the caveats in the documentation: https://pandas.pydata.org/pandas-docs/stable/user_guide/indexing.html#returning-a-view-versus-a-copy\n",
            "  esm1v['pos'] = esm1v['Mutation'].str[1:-1].astype(int)\n",
            "<ipython-input-3-4e6ac872206a>:8: SettingWithCopyWarning: \n",
            "A value is trying to be set on a copy of a slice from a DataFrame.\n",
            "Try using .loc[row_indexer,col_indexer] = value instead\n",
            "\n",
            "See the caveats in the documentation: https://pandas.pydata.org/pandas-docs/stable/user_guide/indexing.html#returning-a-view-versus-a-copy\n",
            "  esm1v['aa'] = esm1v['Mutation'].str[-1]\n"
          ]
        }
      ]
    },
    {
      "cell_type": "code",
      "source": [
        "import pandas as pd\n",
        "afmis = pd.read_csv(\"./AlphaMissense_aa_substitutions.tsv.gz\")\n",
        "afmis = afmis.query('uniprot_id==@a.uniprot_id')\n",
        "afmis['pos'] = afmis['protein_variant'].str[1:-1].astype(int)\n",
        "afmis['aa'] = afmis['protein_variant'].str[-1]\n",
        "afmis_g_wide = afmis.pivot(index='pos', columns='aa', values='am_pathogenicity')\n",
        "\n"
      ],
      "metadata": {
        "id": "n2_2GeIOTA5f"
      },
      "execution_count": null,
      "outputs": []
    },
    {
      "cell_type": "code",
      "source": [
        "#%%\n",
        "to_compare = {'AFMissense': ('lime', afmis_g_wide.mean(1).values),\n",
        "              'ESM1v': ('purple', esm1v_g_wide.mean(1).values/esm1v_g_wide.mean(1).values.min()),\n",
        "              'ESM1b': ('lightpink', p.esm),\n",
        "              'pLDDT_original': ('blue', p.plddt/100),\n",
        "              'ES': ('green', p.es)\n",
        "              }\n",
        "# %%\n",
        "p.plotly_plddt(to_compare=to_compare)"
      ],
      "metadata": {
        "id": "JBs6FXyqSh6h"
      },
      "execution_count": null,
      "outputs": []
    },
    {
      "cell_type": "code",
      "source": [],
      "metadata": {
        "id": "KgHW2YUNTmUg"
      },
      "execution_count": null,
      "outputs": []
    }
  ]
}